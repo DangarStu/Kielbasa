{
 "metadata": {
  "name": "",
  "signature": "sha256:52f095620ea761713a16f02a75abcc87807b7a32cf1905b8cc0ec69ebfff821a"
 },
 "nbformat": 3,
 "nbformat_minor": 0,
 "worksheets": [
  {
   "cells": [
    {
     "cell_type": "code",
     "collapsed": false,
     "input": [
      "#from MusicTheory import *\n",
      "\n",
      "Scale(\"G#\", \"major\").print_notes()\n",
      "print \"\\n\"\n",
      "Chord(\"C\", \"major\").print_notes()"
     ],
     "language": "python",
     "metadata": {},
     "outputs": [
      {
       "output_type": "stream",
       "stream": "stdout",
       "text": [
        "Ab\n",
        "Bb\n",
        "C\n",
        "Db\n",
        "Eb\n",
        "F\n",
        "G\n",
        "\n",
        "\n",
        "C\n",
        "E\n",
        "G\n"
       ]
      }
     ],
     "prompt_number": 130
    },
    {
     "cell_type": "code",
     "collapsed": false,
     "input": [
      "%load_ext autoreload\n",
      "%autoreload 2"
     ],
     "language": "python",
     "metadata": {},
     "outputs": [
      {
       "output_type": "stream",
       "stream": "stdout",
       "text": [
        "The autoreload extension is already loaded. To reload it, use:\n",
        "  %reload_ext autoreload\n"
       ]
      }
     ],
     "prompt_number": 111
    },
    {
     "cell_type": "code",
     "collapsed": false,
     "input": [
      "# A LIST OF THE INTERVAL NAMES INDEXED BY SEMITONE\n",
      "interval_names = [\"Unison\", \"Minor second\", \"Major second\", \"Minor third\", \"Major third\",\n",
      "                  \"Perfect fourth\", \"Diminished fifth\", \"Perfect fifth\", \"Augmented fifth\",\n",
      "                  \"Major sixth\", \"Minor seventh\", \"Major seventh\", \"Octave\", \"Minor ninth\",\n",
      "                  \"Major ninth\" \"Minor tenth\" \"Major tenth\" \"Perfect eleventh\", \"Diminished twelfth\",\n",
      "                  \"Perfect twelfth\", \"Minor thirteenth\", \"Major thirteenth\", \"Minor fourteenth\", \"Major fourteenth\"]\n",
      "\n",
      "# A LIST OF THE NOTE NAMES\n",
      "note_names = [[\"A\", \"A#\", \"B\", \"C\", \"C#\", \"D\", \"D#\", \"E\", \"F\", \"F#\", \"G\", \"G#\"],\n",
      "              [\"A\", \"Bb\", \"B\", \"C\", \"Db\", \"D\", \"Eb\", \"E\", \"F\", \"Gb\", \"G\", \"Ab\"]]\n",
      "\n",
      "note_index = {\"A\": 0, \"A#\": 1, \"B\": 2, \"C\": 3, \"C#\": 4, \"D\": 5, \"D#\": 6, \"E\": 7, \"F\": 8, \"F#\": 9, \n",
      "              \"G\": 10, \"G#\": 11, \"Bb\": 13, \"Db\": 16, \"Eb\": 18, \"Gb\": 21, \"Ab\": 23,\n",
      "              \"a\": 0, \"a#\": 1, \"b\": 2, \"c\": 3, \"c#\": 4, \"d\": 5, \"d#\": 6, \"e\": 7, \"f\": 8, \"f#\": 9,\n",
      "              \"g\": 10, \"g#\": 11, \"bb\": 13, \"db\": 16, \"eb\": 18, \"gb\": 21, \"ab\": 23}\n",
      "\n",
      "\n",
      "# CHORD INFORMATION\n",
      "\n",
      "chords = {};\n",
      "\n",
      "class ChordType:\n",
      "    \n",
      "    def __init__(self, intervals, name, short_name, position):\n",
      "        self.intervals = intervals\n",
      "        self.name = name\n",
      "        self.short_name = short_name\n",
      "        self.position = position\n",
      "    \n",
      "chords['major'] = ChordType([0, 4, 7], \"Major\", \"\", 0)\n",
      "chords['major1'] = ChordType([0, 3, 8], \"Major\", \"\", 1)\n",
      "chords['major2'] = ChordType([0, 5, 9], \"Major\", \"\", 2)\n",
      "chords['minor'] = ChordType([0, 3, 7], \"Minor\", \"m\", 0)\n",
      "chords['augmented'] = ChordType([0, 3, 6], \"Augmented\", \"aug\", 0)\n",
      "chords['diminished'] = ChordType([0, 4, 7], \"Diminished\", \"dim\", 0)\n",
      "chords['major6th'] = ChordType([0, 4, 7, 9], \"Major6th\", \"Maj6\", 0)\n",
      "chords['seventh'] = ChordType([0, 4, 7, 10], \"Seventh\", \"7\", 0)\n",
      "chords['major7th'] = ChordType([0, 4, 7, 11], \"Major 7th\", \"Maj7\", 0)\n",
      "chords['minor7th'] = ChordType([0, 3, 7, 10], \"Minor 7th\", \"m7\", 0)\n",
      "chords['Major9th'] = ChordType([0, 4, 7, 11, 15], \"Major9th\", \"Maj9\", 0)\n",
      "chords['Suspended Fourth'] = ChordType([0, 4, 5, 7], \"Suspended Fourth\", \"add4\", 0)\n",
      "\n",
      "chords['M'] = ChordType([0, 4, 7], \"Major\", \"\", 0)\n",
      "chords['m'] = ChordType([0, 3, 7], \"Minor\", \"m\", 0)\n",
      "chords['aug'] = ChordType([0, 3, 6], \"Augmented\", \"aug\", 0)\n",
      "chords['dim'] = ChordType([0, 4, 7], \"Diminished\", \"dim\", 0)\n",
      "chords['Maj6'] = ChordType([0, 4, 7, 9], \"Major6th\", \"Maj6\", 0)\n",
      "chords['7'] = ChordType([0, 4, 7, 10], \"Seventh\", \"7\", 0)\n",
      "chords['Maj7'] = ChordType([0, 4, 7, 11], \"Major 7th\", \"Maj7\", 0)\n",
      "chords['m7'] = ChordType([0, 3, 7, 10], \"Minor 7th\", \"m7\", 0)\n",
      "chords['Maj9'] = ChordType([0, 4, 7, 11, 15], \"Major9th\", \"Maj9\", 0)\n",
      "chords['add4'] = ChordType([0, 4, 5, 7], \"Suspended Fourth\", \"add4\", 0)\n",
      "    \n",
      "# SCALE INFORMATION\n",
      "\n",
      "# TWO OCTAVES OF INTERVALS FOR THE MAJOR SCALE\n",
      "major_intervals = [0, 2, 4, 5, 7, 9, 11, 12, 14, 16, 17, 19, 21, 23]\n",
      "\n",
      "SHARP = 1\n",
      "NATURAL = 0\n",
      "FLAT = -1\n",
      "\n",
      "# THESE ARE THE OFFSETS INTO THE note_names ARRAY. IF FLATS ARE TO BE USED\n",
      "# THEN START AT 12 and ADD THE NOTE\n",
      "SHARPS = 0\n",
      "NATURALS = 0\n",
      "FLATS = 1\n",
      "\n",
      "scales = {};\n",
      "\n",
      "class ScaleType:\n",
      "    intervals = []\n",
      "    name = \"\"\n",
      "    notation = []\n",
      "    \n",
      "    def __init__(self, name, notation, intervals):\n",
      "        self.name = name\n",
      "        # THE OFFSETS RELATIVE TO THE BASELINE OF major_intervals\n",
      "        self.intervals = intervals\n",
      "        # INFORMATION USED FOR NAMING THE KEY AND THE NOTES WITHIN IT, FIRST INDEX IS 'A'. \n",
      "        self.notation = notation\n",
      "\n",
      "scales['major'] = ScaleType(\"Major\", [SHARPS, FLATS, SHARPS, NATURALS, FLATS, SHARPS, FLATS, SHARPS, FLATS, SHARPS, SHARPS, FLATS],\n",
      "                        [NATURAL, NATURAL, NATURAL, NATURAL, NATURAL, NATURAL, NATURAL, NATURAL, NATURAL, NATURAL, NATURAL, NATURAL, NATURAL, NATURAL])\n",
      "\n",
      "scales['minor'] = ScaleType(\"Minor\", [NATURALS, FLATS, SHARPS, FLATS, SHARPS, FLATS, SHARPS, SHARPS, FLATS, SHARPS, FLATS, SHARPS],\n",
      "                        [NATURAL, NATURAL, FLAT, NATURAL, NATURAL, FLAT, FLAT, NATURAL, NATURAL, FLAT, NATURAL, NATURAL, FLAT, FLAT])\n",
      "\n",
      "class Scale:\n",
      "    \n",
      "    def __init__(self, root_note, scale_type):\n",
      "        self.root_note = 0\n",
      "        self.scale_type = 0\n",
      "        self.notes = []\n",
      "        self.root_note = note_index[root_note]\n",
      "        self.scale_type = scales[scale_type]\n",
      "        \n",
      "        for x in range(0,7):\n",
      "            self.notes.append(self.root_note + self.scale_type.intervals[x] + major_intervals[x])\n",
      "        \n",
      "    def print_notes(self):\n",
      "        for note in self.notes:\n",
      "            print note_names[self.scale_type.notation[self.root_note % 12]][note % 12]\n",
      "            \n",
      "class Chord:\n",
      "    def __init__(self, root_note, chord_type):\n",
      "        self.root_note = 0\n",
      "        self.notes = []\n",
      "        self.root_note = note_index[root_note]\n",
      "        self.chord_type = chords[chord_type]\n",
      "        self.scale_type = scales[chord_type]\n",
      "        \n",
      "        y = 0\n",
      "        for x in self.chord_type.intervals:\n",
      "            self.notes.append(self.root_note + x)\n",
      "            y = y + 1\n",
      "        \n",
      "    def print_notes(self):\n",
      "        for note in self.notes:\n",
      "            print note_names[self.scale_type.notation[self.root_note % 12]][note % 12]\n"
     ],
     "language": "python",
     "metadata": {},
     "outputs": [],
     "prompt_number": 121
    },
    {
     "cell_type": "code",
     "collapsed": false,
     "input": [
      "!pwd\n"
     ],
     "language": "python",
     "metadata": {},
     "outputs": [
      {
       "output_type": "stream",
       "stream": "stdout",
       "text": [
        "/Users/stuart/divermodc/notebook\r\n"
       ]
      }
     ],
     "prompt_number": 112
    },
    {
     "cell_type": "code",
     "collapsed": false,
     "input": [
      "from ipythonblocks import ImageGrid, colors\n",
      "\n",
      "Push = ImageGrid(8,8)\n",
      "\n",
      "for x in range(Push.width):\n",
      "    for y in range(Push.height):\n",
      "        Push[x,y] = colors['Black']\n",
      "        \n",
      "Push.show()"
     ],
     "language": "python",
     "metadata": {},
     "outputs": [
      {
       "html": [
        "<style type=\"text/css\">table.blockgrid {border: none;} .blockgrid tr {border: none;} .blockgrid td {padding: 0px;} #blocks7b514c25-6c2e-4cd2-9ebb-d9123702a83f td {border: 1px solid white;}</style><table id=\"blocks7b514c25-6c2e-4cd2-9ebb-d9123702a83f\" class=\"blockgrid\"><tbody><tr><td title=\"Index: [0, 7]&#10;Color: (0, 0, 0)\" style=\"width: 20px; height: 20px;background-color: rgb(0, 0, 0);\"></td><td title=\"Index: [1, 7]&#10;Color: (0, 0, 0)\" style=\"width: 20px; height: 20px;background-color: rgb(0, 0, 0);\"></td><td title=\"Index: [2, 7]&#10;Color: (0, 0, 0)\" style=\"width: 20px; height: 20px;background-color: rgb(0, 0, 0);\"></td><td title=\"Index: [3, 7]&#10;Color: (0, 0, 0)\" style=\"width: 20px; height: 20px;background-color: rgb(0, 0, 0);\"></td><td title=\"Index: [4, 7]&#10;Color: (0, 0, 0)\" style=\"width: 20px; height: 20px;background-color: rgb(0, 0, 0);\"></td><td title=\"Index: [5, 7]&#10;Color: (0, 0, 0)\" style=\"width: 20px; height: 20px;background-color: rgb(0, 0, 0);\"></td><td title=\"Index: [6, 7]&#10;Color: (0, 0, 0)\" style=\"width: 20px; height: 20px;background-color: rgb(0, 0, 0);\"></td><td title=\"Index: [7, 7]&#10;Color: (0, 0, 0)\" style=\"width: 20px; height: 20px;background-color: rgb(0, 0, 0);\"></td></tr><tr><td title=\"Index: [0, 6]&#10;Color: (0, 0, 0)\" style=\"width: 20px; height: 20px;background-color: rgb(0, 0, 0);\"></td><td title=\"Index: [1, 6]&#10;Color: (0, 0, 0)\" style=\"width: 20px; height: 20px;background-color: rgb(0, 0, 0);\"></td><td title=\"Index: [2, 6]&#10;Color: (0, 0, 0)\" style=\"width: 20px; height: 20px;background-color: rgb(0, 0, 0);\"></td><td title=\"Index: [3, 6]&#10;Color: (0, 0, 0)\" style=\"width: 20px; height: 20px;background-color: rgb(0, 0, 0);\"></td><td title=\"Index: [4, 6]&#10;Color: (0, 0, 0)\" style=\"width: 20px; height: 20px;background-color: rgb(0, 0, 0);\"></td><td title=\"Index: [5, 6]&#10;Color: (0, 0, 0)\" style=\"width: 20px; height: 20px;background-color: rgb(0, 0, 0);\"></td><td title=\"Index: [6, 6]&#10;Color: (0, 0, 0)\" style=\"width: 20px; height: 20px;background-color: rgb(0, 0, 0);\"></td><td title=\"Index: [7, 6]&#10;Color: (0, 0, 0)\" style=\"width: 20px; height: 20px;background-color: rgb(0, 0, 0);\"></td></tr><tr><td title=\"Index: [0, 5]&#10;Color: (0, 0, 0)\" style=\"width: 20px; height: 20px;background-color: rgb(0, 0, 0);\"></td><td title=\"Index: [1, 5]&#10;Color: (0, 0, 0)\" style=\"width: 20px; height: 20px;background-color: rgb(0, 0, 0);\"></td><td title=\"Index: [2, 5]&#10;Color: (0, 0, 0)\" style=\"width: 20px; height: 20px;background-color: rgb(0, 0, 0);\"></td><td title=\"Index: [3, 5]&#10;Color: (0, 0, 0)\" style=\"width: 20px; height: 20px;background-color: rgb(0, 0, 0);\"></td><td title=\"Index: [4, 5]&#10;Color: (0, 0, 0)\" style=\"width: 20px; height: 20px;background-color: rgb(0, 0, 0);\"></td><td title=\"Index: [5, 5]&#10;Color: (0, 0, 0)\" style=\"width: 20px; height: 20px;background-color: rgb(0, 0, 0);\"></td><td title=\"Index: [6, 5]&#10;Color: (0, 0, 0)\" style=\"width: 20px; height: 20px;background-color: rgb(0, 0, 0);\"></td><td title=\"Index: [7, 5]&#10;Color: (0, 0, 0)\" style=\"width: 20px; height: 20px;background-color: rgb(0, 0, 0);\"></td></tr><tr><td title=\"Index: [0, 4]&#10;Color: (0, 0, 0)\" style=\"width: 20px; height: 20px;background-color: rgb(0, 0, 0);\"></td><td title=\"Index: [1, 4]&#10;Color: (0, 0, 0)\" style=\"width: 20px; height: 20px;background-color: rgb(0, 0, 0);\"></td><td title=\"Index: [2, 4]&#10;Color: (0, 0, 0)\" style=\"width: 20px; height: 20px;background-color: rgb(0, 0, 0);\"></td><td title=\"Index: [3, 4]&#10;Color: (0, 0, 0)\" style=\"width: 20px; height: 20px;background-color: rgb(0, 0, 0);\"></td><td title=\"Index: [4, 4]&#10;Color: (0, 0, 0)\" style=\"width: 20px; height: 20px;background-color: rgb(0, 0, 0);\"></td><td title=\"Index: [5, 4]&#10;Color: (0, 0, 0)\" style=\"width: 20px; height: 20px;background-color: rgb(0, 0, 0);\"></td><td title=\"Index: [6, 4]&#10;Color: (0, 0, 0)\" style=\"width: 20px; height: 20px;background-color: rgb(0, 0, 0);\"></td><td title=\"Index: [7, 4]&#10;Color: (0, 0, 0)\" style=\"width: 20px; height: 20px;background-color: rgb(0, 0, 0);\"></td></tr><tr><td title=\"Index: [0, 3]&#10;Color: (0, 0, 0)\" style=\"width: 20px; height: 20px;background-color: rgb(0, 0, 0);\"></td><td title=\"Index: [1, 3]&#10;Color: (0, 0, 0)\" style=\"width: 20px; height: 20px;background-color: rgb(0, 0, 0);\"></td><td title=\"Index: [2, 3]&#10;Color: (0, 0, 0)\" style=\"width: 20px; height: 20px;background-color: rgb(0, 0, 0);\"></td><td title=\"Index: [3, 3]&#10;Color: (0, 0, 0)\" style=\"width: 20px; height: 20px;background-color: rgb(0, 0, 0);\"></td><td title=\"Index: [4, 3]&#10;Color: (0, 0, 0)\" style=\"width: 20px; height: 20px;background-color: rgb(0, 0, 0);\"></td><td title=\"Index: [5, 3]&#10;Color: (0, 0, 0)\" style=\"width: 20px; height: 20px;background-color: rgb(0, 0, 0);\"></td><td title=\"Index: [6, 3]&#10;Color: (0, 0, 0)\" style=\"width: 20px; height: 20px;background-color: rgb(0, 0, 0);\"></td><td title=\"Index: [7, 3]&#10;Color: (0, 0, 0)\" style=\"width: 20px; height: 20px;background-color: rgb(0, 0, 0);\"></td></tr><tr><td title=\"Index: [0, 2]&#10;Color: (0, 0, 0)\" style=\"width: 20px; height: 20px;background-color: rgb(0, 0, 0);\"></td><td title=\"Index: [1, 2]&#10;Color: (0, 0, 0)\" style=\"width: 20px; height: 20px;background-color: rgb(0, 0, 0);\"></td><td title=\"Index: [2, 2]&#10;Color: (0, 0, 0)\" style=\"width: 20px; height: 20px;background-color: rgb(0, 0, 0);\"></td><td title=\"Index: [3, 2]&#10;Color: (0, 0, 0)\" style=\"width: 20px; height: 20px;background-color: rgb(0, 0, 0);\"></td><td title=\"Index: [4, 2]&#10;Color: (0, 0, 0)\" style=\"width: 20px; height: 20px;background-color: rgb(0, 0, 0);\"></td><td title=\"Index: [5, 2]&#10;Color: (0, 0, 0)\" style=\"width: 20px; height: 20px;background-color: rgb(0, 0, 0);\"></td><td title=\"Index: [6, 2]&#10;Color: (0, 0, 0)\" style=\"width: 20px; height: 20px;background-color: rgb(0, 0, 0);\"></td><td title=\"Index: [7, 2]&#10;Color: (0, 0, 0)\" style=\"width: 20px; height: 20px;background-color: rgb(0, 0, 0);\"></td></tr><tr><td title=\"Index: [0, 1]&#10;Color: (0, 0, 0)\" style=\"width: 20px; height: 20px;background-color: rgb(0, 0, 0);\"></td><td title=\"Index: [1, 1]&#10;Color: (0, 0, 0)\" style=\"width: 20px; height: 20px;background-color: rgb(0, 0, 0);\"></td><td title=\"Index: [2, 1]&#10;Color: (0, 0, 0)\" style=\"width: 20px; height: 20px;background-color: rgb(0, 0, 0);\"></td><td title=\"Index: [3, 1]&#10;Color: (0, 0, 0)\" style=\"width: 20px; height: 20px;background-color: rgb(0, 0, 0);\"></td><td title=\"Index: [4, 1]&#10;Color: (0, 0, 0)\" style=\"width: 20px; height: 20px;background-color: rgb(0, 0, 0);\"></td><td title=\"Index: [5, 1]&#10;Color: (0, 0, 0)\" style=\"width: 20px; height: 20px;background-color: rgb(0, 0, 0);\"></td><td title=\"Index: [6, 1]&#10;Color: (0, 0, 0)\" style=\"width: 20px; height: 20px;background-color: rgb(0, 0, 0);\"></td><td title=\"Index: [7, 1]&#10;Color: (0, 0, 0)\" style=\"width: 20px; height: 20px;background-color: rgb(0, 0, 0);\"></td></tr><tr><td title=\"Index: [0, 0]&#10;Color: (0, 0, 0)\" style=\"width: 20px; height: 20px;background-color: rgb(0, 0, 0);\"></td><td title=\"Index: [1, 0]&#10;Color: (0, 0, 0)\" style=\"width: 20px; height: 20px;background-color: rgb(0, 0, 0);\"></td><td title=\"Index: [2, 0]&#10;Color: (0, 0, 0)\" style=\"width: 20px; height: 20px;background-color: rgb(0, 0, 0);\"></td><td title=\"Index: [3, 0]&#10;Color: (0, 0, 0)\" style=\"width: 20px; height: 20px;background-color: rgb(0, 0, 0);\"></td><td title=\"Index: [4, 0]&#10;Color: (0, 0, 0)\" style=\"width: 20px; height: 20px;background-color: rgb(0, 0, 0);\"></td><td title=\"Index: [5, 0]&#10;Color: (0, 0, 0)\" style=\"width: 20px; height: 20px;background-color: rgb(0, 0, 0);\"></td><td title=\"Index: [6, 0]&#10;Color: (0, 0, 0)\" style=\"width: 20px; height: 20px;background-color: rgb(0, 0, 0);\"></td><td title=\"Index: [7, 0]&#10;Color: (0, 0, 0)\" style=\"width: 20px; height: 20px;background-color: rgb(0, 0, 0);\"></td></tr></tbody></table>"
       ],
       "metadata": {},
       "output_type": "display_data",
       "text": [
        "<IPython.core.display.HTML at 0x100534290>"
       ]
      }
     ],
     "prompt_number": 118
    },
    {
     "cell_type": "code",
     "collapsed": false,
     "input": [
      "{+determine_key\n",
      "# CLEAR THE POSSIBLE KEYS SET\n",
      "set MUSIC_keys_index = 0\n",
      "\n",
      "# LOOPING THROUGH ALL OF THE KEYS (ROOT NOTES)\n",
      "set MUSIC_counter = 0\n",
      "repeat\n",
      "   #write \"DEBUG: Checking \" MUSIC_counter{note} \".^\"\n",
      "   # NOW LOOP THROUGH ALL THE NOTES OF THE SONG\n",
      "   if \"+loop_through_scale<MUSIC_counter\" = true\n",
      "      # THE SONG COULD BE IN THIS KEY, ADD IT TO THE POSSIBLE KEYS SET\n",
      "      execute \"+add_to_set<MUSIC_keys<MUSIC_counter\"\n",
      "   endif\n",
      "   set MUSIC_counter + 1\n",
      "until MUSIC_counter = 12\n",
      "if MUSIC_keys_index = 1\n",
      "   set MUSIC_scale_key = MUSIC_keys[0]\n",
      "endif\n",
      "}"
     ],
     "language": "python",
     "metadata": {},
     "outputs": []
    }
   ],
   "metadata": {}
  }
 ]
}